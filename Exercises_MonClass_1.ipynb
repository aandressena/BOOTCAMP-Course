{
  "cells": [
    {
      "cell_type": "markdown",
      "metadata": {
        "id": "view-in-github",
        "colab_type": "text"
      },
      "source": [
        "<a href=\"https://colab.research.google.com/github/aandressena/BOOTCAMP-Course/blob/main/Exercises_MonClass_1.ipynb\" target=\"_parent\"><img src=\"https://colab.research.google.com/assets/colab-badge.svg\" alt=\"Open In Colab\"/></a>"
      ]
    },
    {
      "cell_type": "markdown",
      "source": [
        "<h1>Exercícios de Monitoria 01"
      ],
      "metadata": {
        "id": "xanL37Qr2fVs"
      }
    },
    {
      "cell_type": "markdown",
      "metadata": {
        "id": "nOvCFOunxWmN"
      },
      "source": [
        "### Tabuada ✓\n",
        "Imprima a tabuada de 1 ao 10;"
      ]
    },
    {
      "cell_type": "code",
      "execution_count": 292,
      "metadata": {
        "id": "jk3X-aqxqXz8"
      },
      "outputs": [],
      "source": [
        "import numpy as np"
      ]
    },
    {
      "cell_type": "code",
      "execution_count": 293,
      "metadata": {
        "colab": {
          "base_uri": "https://localhost:8080/"
        },
        "id": "2DSel-_uv9ov",
        "outputId": "993d7724-6e0c-4279-c92c-91ce41a35e80"
      },
      "outputs": [
        {
          "output_type": "stream",
          "name": "stdout",
          "text": [
            "[ 1  2  3  4  5  6  7  8  9 10]\n",
            "[ 2  4  6  8 10 12 14 16 18 20]\n",
            "[ 3  6  9 12 15 18 21 24 27 30]\n",
            "[ 4  8 12 16 20 24 28 32 36 40]\n",
            "[ 5 10 15 20 25 30 35 40 45 50]\n",
            "[ 6 12 18 24 30 36 42 48 54 60]\n",
            "[ 7 14 21 28 35 42 49 56 63 70]\n",
            "[ 8 16 24 32 40 48 56 64 72 80]\n",
            "[ 9 18 27 36 45 54 63 72 81 90]\n",
            "[ 10  20  30  40  50  60  70  80  90 100]\n"
          ]
        }
      ],
      "source": [
        "num = np.arange(1, 11)\n",
        "for x in num:\n",
        "  print(num * x)"
      ]
    },
    {
      "cell_type": "markdown",
      "metadata": {
        "id": "52N_Qc58xehs"
      },
      "source": [
        "### Divisiveis por 3 ✓\n",
        "Considerando os números inteiros de 1 a 100, escreva um código que imprima apenas os números divisíveis por 3;"
      ]
    },
    {
      "cell_type": "code",
      "execution_count": null,
      "metadata": {
        "id": "tbQZJI-Wx4DT"
      },
      "outputs": [],
      "source": [
        "for number in range(1,101):\n",
        "  if number % 3 == 0:\n",
        "    print(number)"
      ]
    },
    {
      "cell_type": "markdown",
      "metadata": {
        "id": "YaKUCPEj1k0V"
      },
      "source": [
        "### Imprimir numeros em forma ✓\n",
        "Imprima os seguintes números na forma abaixo:<br>\n",
        "1<br>\n",
        "2 2<br>\n",
        "3 3 3<br>\n",
        "4 4 4 4<br>\n",
        "5 5 5 5 5<br>"
      ]
    },
    {
      "cell_type": "code",
      "execution_count": 295,
      "metadata": {
        "colab": {
          "base_uri": "https://localhost:8080/"
        },
        "id": "PKijOFjn2Lfq",
        "outputId": "d88c8bfe-29b6-49fc-ced2-1e373bf42fbe"
      },
      "outputs": [
        {
          "output_type": "stream",
          "name": "stdout",
          "text": [
            "1 \n",
            "2 2 \n",
            "3 3 3 \n",
            "4 4 4 4 \n",
            "5 5 5 5 5 \n"
          ]
        }
      ],
      "source": [
        "n = 0\n",
        "while n < 5:\n",
        "  n = n + 1\n",
        "  print(n * (str(n) + ' '))"
      ]
    },
    {
      "cell_type": "markdown",
      "metadata": {
        "id": "-QD2tNc62aI5"
      },
      "source": [
        "### Listas pares e impares ✓\n",
        "Dadas duas listas:<br>\n",
        "<code>lista1 = [0, 4, 17, 8, 25, 6, 3, 99, 62, 7, 31, 71]<br>\n",
        "lista2 = [10, 11, 27, 18, 5, 62, 3, 94, 2 ,7]</code><br>\n",
        "Crie uma nova lista que contenha apenas números impares da primeira lista e números pares da segunda lista;"
      ]
    },
    {
      "cell_type": "code",
      "execution_count": 296,
      "metadata": {
        "id": "Aw1WWD162gpY"
      },
      "outputs": [],
      "source": [
        "lista1 = [0, 4, 17, 8, 25, 6, 3, 99, 62, 7, 31, 71]\n",
        "lista2 = [10, 11, 27, 18, 5, 62, 3, 94, 2 ,7]"
      ]
    },
    {
      "cell_type": "code",
      "execution_count": 297,
      "metadata": {
        "id": "BAzaDmV778gG"
      },
      "outputs": [],
      "source": [
        "lista = []\n",
        "impar = []\n",
        "par = []\n",
        "for n in lista1:\n",
        "  if n % 2 != int():\n",
        "    impar.append(n)\n",
        "\n",
        "for n in lista2:\n",
        "  if n % 2 == int():\n",
        "    par.append(n)\n",
        "    "
      ]
    },
    {
      "cell_type": "code",
      "execution_count": 298,
      "metadata": {
        "id": "2lg6mupTMqQj"
      },
      "outputs": [],
      "source": [
        "lista = impar + par"
      ]
    },
    {
      "cell_type": "code",
      "execution_count": 299,
      "metadata": {
        "colab": {
          "base_uri": "https://localhost:8080/"
        },
        "id": "Q931TmRCRRrp",
        "outputId": "9440363b-80c1-4fc5-fdd8-b4def647552a"
      },
      "outputs": [
        {
          "output_type": "stream",
          "name": "stdout",
          "text": [
            "[17, 25, 3, 99, 7, 31, 71]\n",
            "[10, 18, 62, 94, 2]\n",
            "[17, 25, 3, 99, 7, 31, 71, 10, 18, 62, 94, 2]\n"
          ]
        }
      ],
      "source": [
        "print(impar)\n",
        "print(par)\n",
        "print(lista)"
      ]
    },
    {
      "cell_type": "markdown",
      "metadata": {
        "id": "mOv3SiuP7-S3"
      },
      "source": [
        "### Função < ou > 1000 ✓\n",
        "Dados dois números inteiros, escreva um código que:\n",
        "* a) Retorne o produto dos números;\n",
        "* b) Se o produto for maior que 1000, retorne a soma;\n",
        "* c) Execute a tarefa acima para duas listas de números;\n",
        "* d) Execute a tarefa acima em uma função;"
      ]
    },
    {
      "cell_type": "code",
      "execution_count": 300,
      "metadata": {
        "id": "hAHGEbcm8RaM"
      },
      "outputs": [],
      "source": [
        "#d)\n",
        "def conta(x, y):\n",
        "  if x * y < 1000:\n",
        "    result = (x * y)\n",
        "    \n",
        "  else:\n",
        "    result = (x + y)\n",
        "  return result\n"
      ]
    },
    {
      "cell_type": "code",
      "execution_count": 301,
      "metadata": {
        "colab": {
          "base_uri": "https://localhost:8080/"
        },
        "id": "gn_YR4ihybHj",
        "outputId": "013078c4-ef59-4ecc-c09f-674117a61239"
      },
      "outputs": [
        {
          "output_type": "execute_result",
          "data": {
            "text/plain": [
              "250"
            ]
          },
          "metadata": {},
          "execution_count": 301
        }
      ],
      "source": [
        "#a) & b)\n",
        "conta(5, 10)\n",
        "conta(100, 150)"
      ]
    },
    {
      "cell_type": "code",
      "source": [
        "#c)\n",
        "lista1 = [2, 10, 110]\n",
        "lista2 = [3, 15, 150]\n",
        "\n",
        "\n",
        "\n",
        "for l1 in lista1:\n",
        "  for l2 in lista2:\n",
        "    if l1 * l2 < 1000:\n",
        "      print(f'{l1} * {l2} = {conta(l1, l2)}')\n",
        "    else:\n",
        "      print(f'{l1} + {l2} = {conta(l1, l2)}')\n",
        "\n",
        "\n",
        "\n",
        "  "
      ],
      "metadata": {
        "colab": {
          "base_uri": "https://localhost:8080/"
        },
        "id": "iunMMgq5efDs",
        "outputId": "c1b3cb69-b47c-45a5-a5b1-24260c152997"
      },
      "execution_count": 302,
      "outputs": [
        {
          "output_type": "stream",
          "name": "stdout",
          "text": [
            "2 * 3 = 6\n",
            "2 * 15 = 30\n",
            "2 * 150 = 300\n",
            "10 * 3 = 30\n",
            "10 * 15 = 150\n",
            "10 + 150 = 160\n",
            "110 * 3 = 330\n",
            "110 + 15 = 125\n",
            "110 + 150 = 260\n"
          ]
        }
      ]
    },
    {
      "cell_type": "code",
      "source": [
        ""
      ],
      "metadata": {
        "id": "p61964ZS2bjD"
      },
      "execution_count": null,
      "outputs": []
    }
  ],
  "metadata": {
    "colab": {
      "collapsed_sections": [
        "nOvCFOunxWmN",
        "52N_Qc58xehs",
        "YaKUCPEj1k0V",
        "-QD2tNc62aI5",
        "mOv3SiuP7-S3"
      ],
      "name": "Exercicios_monitoria_1.ipynb",
      "provenance": [],
      "authorship_tag": "ABX9TyM/yNr0+2ljrngB6TSMW3PP",
      "include_colab_link": true
    },
    "kernelspec": {
      "display_name": "Python 3",
      "name": "python3"
    },
    "language_info": {
      "name": "python"
    }
  },
  "nbformat": 4,
  "nbformat_minor": 0
}