{
  "nbformat": 4,
  "nbformat_minor": 0,
  "metadata": {
    "colab": {
      "name": "Untitled5.ipynb",
      "provenance": [],
      "authorship_tag": "ABX9TyMYSd9LIseiMWvuUsv0BoFw",
      "include_colab_link": true
    },
    "kernelspec": {
      "name": "python3",
      "display_name": "Python 3"
    },
    "language_info": {
      "name": "python"
    }
  },
  "cells": [
    {
      "cell_type": "markdown",
      "metadata": {
        "id": "view-in-github",
        "colab_type": "text"
      },
      "source": [
        "<a href=\"https://colab.research.google.com/github/aandressena/BOOTCAMP-Course/blob/main/Untitled5.ipynb\" target=\"_parent\"><img src=\"https://colab.research.google.com/assets/colab-badge.svg\" alt=\"Open In Colab\"/></a>"
      ]
    },
    {
      "cell_type": "markdown",
      "source": [
        "# Full Points: Working code that yields correct results\n",
        "\n",
        "## You will be graded on the dashboards displaying the specified data and the screenshots you took during the final project lab questions. There are 12 possible points for this assignment. Here is the breakdown:\n",
        "\n",
        "* Question 1 - Extracting Tesla Stock Data Using yfinance - 2 Points\n",
        "* Question 2 - Extracting Tesla Revenue Data Using Webscraping - 1 Points\n",
        "* Question 3 - Extracting GameStop Stock Data Using yfinance - 2 Points\n",
        "* Question 4 - Extracting GameStop Revenue Data Using Webscraping - 1 Points\n",
        "* Question 5 - Tesla Stock and Revenue Dashboard - 2 Points\n",
        "* Question 6 - GameStop Stock and Revenue Dashboard- 2 Points\n",
        "* Question 7 - Sharing your Assignment Notebook - 2 Points\n",
        "\n",
        "## For each problem points will be awarded as follows:\n",
        "\n",
        "### Full Points: Working code that yields correct results\n",
        "### Partial Points: Partially correct code or results\n",
        "### No Points: Did not attempt the problem or did not upload any solution"
      ],
      "metadata": {
        "id": "pmKb7ippMRRw"
      }
    },
    {
      "cell_type": "code",
      "source": [
        "!pip install yfinance==0.1.67"
      ],
      "metadata": {
        "id": "O66XQdhdNq18"
      },
      "execution_count": null,
      "outputs": []
    },
    {
      "cell_type": "code",
      "execution_count": null,
      "metadata": {
        "id": "4ijXGJerMKpS"
      },
      "outputs": [],
      "source": [
        "import yfinance as yf\n",
        "import pandas as pd\n",
        "import requests\n",
        "from bs4 import BeautifulSoup"
      ]
    },
    {
      "cell_type": "code",
      "source": [
        "url = 'https://cf-courses-data.s3.us.cloud-object-storage.appdomain.cloud/IBMDeveloperSkillsNetwork-PY0220EN-SkillsNetwork/labs/project/netflix_data_webpage.html'"
      ],
      "metadata": {
        "id": "WpzUNhkdInFq"
      },
      "execution_count": null,
      "outputs": []
    },
    {
      "cell_type": "code",
      "source": [
        "response = requests.get(url).content\n",
        "soup = BeautifulSoup(response, 'html.parser')"
      ],
      "metadata": {
        "id": "U7xG-y3nIw6R"
      },
      "execution_count": null,
      "outputs": []
    },
    {
      "cell_type": "code",
      "source": [
        "column = []\n",
        "for i in soup.find_all('th'):\n",
        "  print(i.text)\n",
        "  column.append(i.text)\n",
        "print('CABOO')\n"
      ],
      "metadata": {
        "colab": {
          "base_uri": "https://localhost:8080/"
        },
        "id": "2Wtqc5TAbFny",
        "outputId": "97512ffc-61ad-4b66-8562-2edb1504062c"
      },
      "execution_count": null,
      "outputs": [
        {
          "output_type": "stream",
          "name": "stdout",
          "text": [
            "Date\n",
            "Open\n",
            "High\n",
            "Low\n",
            "Close*\n",
            "Adj Close**\n",
            "Volume\n",
            "CABOO\n"
          ]
        }
      ]
    },
    {
      "cell_type": "code",
      "source": [
        "column"
      ],
      "metadata": {
        "colab": {
          "base_uri": "https://localhost:8080/"
        },
        "id": "sQo7v1EHgYCx",
        "outputId": "b9c6f577-b332-4e0f-d808-f4a3f69b3772"
      },
      "execution_count": null,
      "outputs": [
        {
          "output_type": "execute_result",
          "data": {
            "text/plain": [
              "['Date', 'Open', 'High', 'Low', 'Close*', 'Adj Close**', 'Volume']"
            ]
          },
          "metadata": {},
          "execution_count": 131
        }
      ]
    }
  ]
}