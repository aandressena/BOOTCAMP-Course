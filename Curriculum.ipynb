{
  "nbformat": 4,
  "nbformat_minor": 0,
  "metadata": {
    "colab": {
      "name": "Curriculum.ipynb",
      "provenance": [],
      "collapsed_sections": [
        "6V-65E_NHYMd",
        "nJ6eP8-187r1"
      ],
      "authorship_tag": "ABX9TyM6NeYNJZEt2pL6TYYm9JTs",
      "include_colab_link": true
    },
    "kernelspec": {
      "name": "python3",
      "display_name": "Python 3"
    },
    "language_info": {
      "name": "python"
    }
  },
  "cells": [
    {
      "cell_type": "markdown",
      "metadata": {
        "id": "view-in-github",
        "colab_type": "text"
      },
      "source": [
        "<a href=\"https://colab.research.google.com/github/aandressena/BOOTCAMP-Course/blob/main/Curriculum.ipynb\" target=\"_parent\"><img src=\"https://colab.research.google.com/assets/colab-badge.svg\" alt=\"Open In Colab\"/></a>"
      ]
    },
    {
      "cell_type": "markdown",
      "source": [
        "### Dados"
      ],
      "metadata": {
        "id": "6V-65E_NHYMd"
      }
    },
    {
      "cell_type": "code",
      "source": [
        "import pandas as pd"
      ],
      "metadata": {
        "id": "sJWxEgeJ3_9m"
      },
      "execution_count": 147,
      "outputs": []
    },
    {
      "cell_type": "code",
      "execution_count": 159,
      "metadata": {
        "id": "45yqVAAH1H4f"
      },
      "outputs": [],
      "source": [
        "nome = 'Andre Sena Machado'\n",
        "idade = 27\n",
        "contato = ['andresena.m@gmail.com', 5521972783508]"
      ]
    },
    {
      "cell_type": "code",
      "source": [
        "trajetoria_profissional = {\n",
        "    'Empresa': ['TekFlow', 'Anjusclean', 'Marama', 'Rede DOr'],\n",
        "    'Cargo': ['Tecnico em Eletronica', 'Recepcionista Bilingue', 'Gerente de vendas', 'Recepcionista'],\n",
        "    'Ano': [2014, 2016, 2017, 2021],}\n",
        "experiencia = pd.DataFrame(trajetoria_profissional)"
      ],
      "metadata": {
        "id": "x_mQh6WT3rdv"
      },
      "execution_count": 149,
      "outputs": []
    },
    {
      "cell_type": "code",
      "source": [
        "lista_de_idiomas = ['english', '日本語', 'LIBRAS', 'italiano', 'français', 'python']"
      ],
      "metadata": {
        "id": "gFBk1c7_1q9y"
      },
      "execution_count": 150,
      "outputs": []
    },
    {
      "cell_type": "code",
      "source": [
        "lista_de_cursos = [\"Microsoft Power BI Para Data Science - DSA\",\n",
        "          'Python Fundamentos Para Análise de Dados - DSA',\n",
        "          'Business Inteligence - SQL Server and Analysis Services - UDEMY',\n",
        "          'Google IT Support Professional - Coursera',\n",
        "          'BOOTCAMP Data Science, Machine learning and A.I. - Instituto INFNET'\n",
        "]"
      ],
      "metadata": {
        "id": "rSyZXzBsAK4A"
      },
      "execution_count": 151,
      "outputs": []
    },
    {
      "cell_type": "markdown",
      "source": [
        "### Funções"
      ],
      "metadata": {
        "id": "nJ6eP8-187r1"
      }
    },
    {
      "cell_type": "code",
      "source": [
        "def dados_pessoais(x):\n",
        "  print(f'{nome} ~ {idade} anos')\n",
        "  print(contato[0])\n",
        "  print(contato[1])"
      ],
      "metadata": {
        "id": "TgC7u2JV6pOA"
      },
      "execution_count": 152,
      "outputs": []
    },
    {
      "cell_type": "code",
      "source": [
        "def idiomas(x):\n",
        "  for idioma in lista_de_idiomas:\n",
        "    if idioma == 'français' or idioma == 'python':\n",
        "      print(idioma + ' ~')\n",
        "    else:\n",
        "      print(idioma + ' ✓')"
      ],
      "metadata": {
        "id": "39qmwGZkLrOl"
      },
      "execution_count": 153,
      "outputs": []
    },
    {
      "cell_type": "code",
      "source": [
        "def atividades_extras(x):\n",
        "  for curso in lista_de_cursos:\n",
        "    print(curso)"
      ],
      "metadata": {
        "id": "XcflrLYoL3hc"
      },
      "execution_count": 154,
      "outputs": []
    },
    {
      "cell_type": "markdown",
      "source": [
        "# Curriculum"
      ],
      "metadata": {
        "id": "gj9rvifxMTGD"
      }
    },
    {
      "cell_type": "code",
      "source": [
        "dados_pessoais('Andre')"
      ],
      "metadata": {
        "colab": {
          "base_uri": "https://localhost:8080/"
        },
        "id": "pKmtuCWRKTmI",
        "outputId": "a1327672-1b11-484a-8f91-0e6820bef498"
      },
      "execution_count": 160,
      "outputs": [
        {
          "output_type": "stream",
          "name": "stdout",
          "text": [
            "Andre Sena Machado ~ 27 anos\n",
            "andresena.m@gmail.com\n",
            "5521972783508\n"
          ]
        }
      ]
    },
    {
      "cell_type": "code",
      "source": [
        "experiencia"
      ],
      "metadata": {
        "colab": {
          "base_uri": "https://localhost:8080/",
          "height": 175
        },
        "id": "SX8vvU856yMn",
        "outputId": "4ddbd631-5245-4fea-d13d-379c52383a26"
      },
      "execution_count": 156,
      "outputs": [
        {
          "output_type": "execute_result",
          "data": {
            "text/html": [
              "\n",
              "  <div id=\"df-db4112ac-12d0-4291-8c15-38b2c106e2e8\">\n",
              "    <div class=\"colab-df-container\">\n",
              "      <div>\n",
              "<style scoped>\n",
              "    .dataframe tbody tr th:only-of-type {\n",
              "        vertical-align: middle;\n",
              "    }\n",
              "\n",
              "    .dataframe tbody tr th {\n",
              "        vertical-align: top;\n",
              "    }\n",
              "\n",
              "    .dataframe thead th {\n",
              "        text-align: right;\n",
              "    }\n",
              "</style>\n",
              "<table border=\"1\" class=\"dataframe\">\n",
              "  <thead>\n",
              "    <tr style=\"text-align: right;\">\n",
              "      <th></th>\n",
              "      <th>Empresa</th>\n",
              "      <th>Cargo</th>\n",
              "      <th>Ano</th>\n",
              "    </tr>\n",
              "  </thead>\n",
              "  <tbody>\n",
              "    <tr>\n",
              "      <th>0</th>\n",
              "      <td>TekFlow</td>\n",
              "      <td>Tecnico em Eletronica</td>\n",
              "      <td>2014</td>\n",
              "    </tr>\n",
              "    <tr>\n",
              "      <th>1</th>\n",
              "      <td>Anjusclean</td>\n",
              "      <td>Recepcionista Bilingue</td>\n",
              "      <td>2016</td>\n",
              "    </tr>\n",
              "    <tr>\n",
              "      <th>2</th>\n",
              "      <td>Marama</td>\n",
              "      <td>Gerente de vendas</td>\n",
              "      <td>2017</td>\n",
              "    </tr>\n",
              "    <tr>\n",
              "      <th>3</th>\n",
              "      <td>Rede DOr</td>\n",
              "      <td>Recepcionista</td>\n",
              "      <td>2021</td>\n",
              "    </tr>\n",
              "  </tbody>\n",
              "</table>\n",
              "</div>\n",
              "      <button class=\"colab-df-convert\" onclick=\"convertToInteractive('df-db4112ac-12d0-4291-8c15-38b2c106e2e8')\"\n",
              "              title=\"Convert this dataframe to an interactive table.\"\n",
              "              style=\"display:none;\">\n",
              "        \n",
              "  <svg xmlns=\"http://www.w3.org/2000/svg\" height=\"24px\"viewBox=\"0 0 24 24\"\n",
              "       width=\"24px\">\n",
              "    <path d=\"M0 0h24v24H0V0z\" fill=\"none\"/>\n",
              "    <path d=\"M18.56 5.44l.94 2.06.94-2.06 2.06-.94-2.06-.94-.94-2.06-.94 2.06-2.06.94zm-11 1L8.5 8.5l.94-2.06 2.06-.94-2.06-.94L8.5 2.5l-.94 2.06-2.06.94zm10 10l.94 2.06.94-2.06 2.06-.94-2.06-.94-.94-2.06-.94 2.06-2.06.94z\"/><path d=\"M17.41 7.96l-1.37-1.37c-.4-.4-.92-.59-1.43-.59-.52 0-1.04.2-1.43.59L10.3 9.45l-7.72 7.72c-.78.78-.78 2.05 0 2.83L4 21.41c.39.39.9.59 1.41.59.51 0 1.02-.2 1.41-.59l7.78-7.78 2.81-2.81c.8-.78.8-2.07 0-2.86zM5.41 20L4 18.59l7.72-7.72 1.47 1.35L5.41 20z\"/>\n",
              "  </svg>\n",
              "      </button>\n",
              "      \n",
              "  <style>\n",
              "    .colab-df-container {\n",
              "      display:flex;\n",
              "      flex-wrap:wrap;\n",
              "      gap: 12px;\n",
              "    }\n",
              "\n",
              "    .colab-df-convert {\n",
              "      background-color: #E8F0FE;\n",
              "      border: none;\n",
              "      border-radius: 50%;\n",
              "      cursor: pointer;\n",
              "      display: none;\n",
              "      fill: #1967D2;\n",
              "      height: 32px;\n",
              "      padding: 0 0 0 0;\n",
              "      width: 32px;\n",
              "    }\n",
              "\n",
              "    .colab-df-convert:hover {\n",
              "      background-color: #E2EBFA;\n",
              "      box-shadow: 0px 1px 2px rgba(60, 64, 67, 0.3), 0px 1px 3px 1px rgba(60, 64, 67, 0.15);\n",
              "      fill: #174EA6;\n",
              "    }\n",
              "\n",
              "    [theme=dark] .colab-df-convert {\n",
              "      background-color: #3B4455;\n",
              "      fill: #D2E3FC;\n",
              "    }\n",
              "\n",
              "    [theme=dark] .colab-df-convert:hover {\n",
              "      background-color: #434B5C;\n",
              "      box-shadow: 0px 1px 3px 1px rgba(0, 0, 0, 0.15);\n",
              "      filter: drop-shadow(0px 1px 2px rgba(0, 0, 0, 0.3));\n",
              "      fill: #FFFFFF;\n",
              "    }\n",
              "  </style>\n",
              "\n",
              "      <script>\n",
              "        const buttonEl =\n",
              "          document.querySelector('#df-db4112ac-12d0-4291-8c15-38b2c106e2e8 button.colab-df-convert');\n",
              "        buttonEl.style.display =\n",
              "          google.colab.kernel.accessAllowed ? 'block' : 'none';\n",
              "\n",
              "        async function convertToInteractive(key) {\n",
              "          const element = document.querySelector('#df-db4112ac-12d0-4291-8c15-38b2c106e2e8');\n",
              "          const dataTable =\n",
              "            await google.colab.kernel.invokeFunction('convertToInteractive',\n",
              "                                                     [key], {});\n",
              "          if (!dataTable) return;\n",
              "\n",
              "          const docLinkHtml = 'Like what you see? Visit the ' +\n",
              "            '<a target=\"_blank\" href=https://colab.research.google.com/notebooks/data_table.ipynb>data table notebook</a>'\n",
              "            + ' to learn more about interactive tables.';\n",
              "          element.innerHTML = '';\n",
              "          dataTable['output_type'] = 'display_data';\n",
              "          await google.colab.output.renderOutput(dataTable, element);\n",
              "          const docLink = document.createElement('div');\n",
              "          docLink.innerHTML = docLinkHtml;\n",
              "          element.appendChild(docLink);\n",
              "        }\n",
              "      </script>\n",
              "    </div>\n",
              "  </div>\n",
              "  "
            ],
            "text/plain": [
              "      Empresa                   Cargo   Ano\n",
              "0     TekFlow   Tecnico em Eletronica  2014\n",
              "1  Anjusclean  Recepcionista Bilingue  2016\n",
              "2      Marama       Gerente de vendas  2017\n",
              "3    Rede DOr           Recepcionista  2021"
            ]
          },
          "metadata": {},
          "execution_count": 156
        }
      ]
    },
    {
      "cell_type": "code",
      "source": [
        "idiomas('Andre')"
      ],
      "metadata": {
        "colab": {
          "base_uri": "https://localhost:8080/"
        },
        "id": "QdRuxKHA8b0t",
        "outputId": "60433140-5f87-41af-966d-c5fd686ce753"
      },
      "execution_count": 157,
      "outputs": [
        {
          "output_type": "stream",
          "name": "stdout",
          "text": [
            "english ✓\n",
            "日本語 ✓\n",
            "LIBRAS ✓\n",
            "italiano ✓\n",
            "français ~\n",
            "python ~\n"
          ]
        }
      ]
    },
    {
      "cell_type": "code",
      "source": [
        "atividades_extras('Andre')"
      ],
      "metadata": {
        "colab": {
          "base_uri": "https://localhost:8080/"
        },
        "id": "5nuR5LNRKuj9",
        "outputId": "4c85b40f-cf64-4417-bd7d-34fc369543e3"
      },
      "execution_count": 158,
      "outputs": [
        {
          "output_type": "stream",
          "name": "stdout",
          "text": [
            "Microsoft Power BI Para Data Science - DSA\n",
            "Python Fundamentos Para Análise de Dados - DSA\n",
            "Business Inteligence - SQL Server and Analysis Services - UDEMY\n",
            "Google IT Support Professional - Coursera\n",
            "BOOTCAMP Data Science, Machine learning and A.I. - Instituto INFNET\n"
          ]
        }
      ]
    }
  ]
}